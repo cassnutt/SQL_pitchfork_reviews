{
 "cells": [
  {
   "cell_type": "markdown",
   "metadata": {},
   "source": [
    "# Exploring Pitchfork Reviews"
   ]
  },
  {
   "cell_type": "markdown",
   "metadata": {},
   "source": [
    "## Libraries"
   ]
  },
  {
   "cell_type": "code",
   "execution_count": 2,
   "metadata": {
    "ExecuteTime": {
     "end_time": "2021-04-20T19:53:21.797757Z",
     "start_time": "2021-04-20T19:53:16.501657Z"
    }
   },
   "outputs": [],
   "source": [
    "import pandas as pd\n",
    "import numpy as np\n",
    "import matplotlib.pyplot as plt\n",
    "%matplotlib inline\n",
    "\n",
    "import sqlite3\n",
    "import datetime\n",
    "import seaborn as sns\n",
    "sns.set_style('whitegrid')"
   ]
  },
  {
   "cell_type": "markdown",
   "metadata": {},
   "source": [
    "# Load data"
   ]
  },
  {
   "cell_type": "code",
   "execution_count": 11,
   "metadata": {
    "ExecuteTime": {
     "end_time": "2021-04-20T21:05:20.415251Z",
     "start_time": "2021-04-20T21:05:20.412339Z"
    }
   },
   "outputs": [],
   "source": [
    "conn = sqlite3.connect('../database.sqlite')\n",
    "c = conn.cursor()"
   ]
  },
  {
   "cell_type": "markdown",
   "metadata": {},
   "source": [
    "![schema](images/pitchfork_reviews2.png)"
   ]
  },
  {
   "cell_type": "code",
   "execution_count": 14,
   "metadata": {
    "ExecuteTime": {
     "end_time": "2021-04-20T21:10:30.504173Z",
     "start_time": "2021-04-20T21:10:30.301879Z"
    }
   },
   "outputs": [],
   "source": [
    "q = '''\n",
    "SELECT \n",
    "    reviewid, \n",
    "    g.genre, \n",
    "    a.artist, \n",
    "    y.year, \n",
    "    l.label,\n",
    "    r.title, \n",
    "    r.score \n",
    "FROM genres AS g\n",
    "JOIN artists AS a\n",
    "    USING (reviewid)\n",
    "JOIN years AS y\n",
    "    USING (reviewid)\n",
    "JOIN labels AS l\n",
    "    USING (reviewid)\n",
    "JOIN reviews AS r\n",
    "    USING (reviewid)\n",
    ";\n",
    "'''\n",
    "\n",
    "df = pd.read_sql(q, conn)"
   ]
  },
  {
   "cell_type": "code",
   "execution_count": 15,
   "metadata": {
    "ExecuteTime": {
     "end_time": "2021-04-20T21:10:31.631329Z",
     "start_time": "2021-04-20T21:10:31.616050Z"
    }
   },
   "outputs": [
    {
     "data": {
      "text/html": [
       "<div>\n",
       "<style scoped>\n",
       "    .dataframe tbody tr th:only-of-type {\n",
       "        vertical-align: middle;\n",
       "    }\n",
       "\n",
       "    .dataframe tbody tr th {\n",
       "        vertical-align: top;\n",
       "    }\n",
       "\n",
       "    .dataframe thead th {\n",
       "        text-align: right;\n",
       "    }\n",
       "</style>\n",
       "<table border=\"1\" class=\"dataframe\">\n",
       "  <thead>\n",
       "    <tr style=\"text-align: right;\">\n",
       "      <th></th>\n",
       "      <th>reviewid</th>\n",
       "      <th>genre</th>\n",
       "      <th>artist</th>\n",
       "      <th>year</th>\n",
       "      <th>label</th>\n",
       "      <th>title</th>\n",
       "      <th>score</th>\n",
       "    </tr>\n",
       "  </thead>\n",
       "  <tbody>\n",
       "    <tr>\n",
       "      <th>0</th>\n",
       "      <td>22703</td>\n",
       "      <td>electronic</td>\n",
       "      <td>massive attack</td>\n",
       "      <td>1998.0</td>\n",
       "      <td>virgin</td>\n",
       "      <td>mezzanine</td>\n",
       "      <td>9.3</td>\n",
       "    </tr>\n",
       "    <tr>\n",
       "      <th>1</th>\n",
       "      <td>22721</td>\n",
       "      <td>metal</td>\n",
       "      <td>krallice</td>\n",
       "      <td>2016.0</td>\n",
       "      <td>hathenter</td>\n",
       "      <td>prelapsarian</td>\n",
       "      <td>7.9</td>\n",
       "    </tr>\n",
       "    <tr>\n",
       "      <th>2</th>\n",
       "      <td>22659</td>\n",
       "      <td>rock</td>\n",
       "      <td>uranium club</td>\n",
       "      <td>2016.0</td>\n",
       "      <td>fashionable idiots</td>\n",
       "      <td>all of them naturals</td>\n",
       "      <td>7.3</td>\n",
       "    </tr>\n",
       "    <tr>\n",
       "      <th>3</th>\n",
       "      <td>22659</td>\n",
       "      <td>rock</td>\n",
       "      <td>uranium club</td>\n",
       "      <td>2016.0</td>\n",
       "      <td>static shock</td>\n",
       "      <td>all of them naturals</td>\n",
       "      <td>7.3</td>\n",
       "    </tr>\n",
       "    <tr>\n",
       "      <th>4</th>\n",
       "      <td>22661</td>\n",
       "      <td>rock</td>\n",
       "      <td>kleenex</td>\n",
       "      <td>2016.0</td>\n",
       "      <td>kill rock stars</td>\n",
       "      <td>first songs</td>\n",
       "      <td>9.0</td>\n",
       "    </tr>\n",
       "    <tr>\n",
       "      <th>...</th>\n",
       "      <td>...</td>\n",
       "      <td>...</td>\n",
       "      <td>...</td>\n",
       "      <td>...</td>\n",
       "      <td>...</td>\n",
       "      <td>...</td>\n",
       "      <td>...</td>\n",
       "    </tr>\n",
       "    <tr>\n",
       "      <th>26897</th>\n",
       "      <td>5376</td>\n",
       "      <td>rock</td>\n",
       "      <td>mojave 3</td>\n",
       "      <td>NaN</td>\n",
       "      <td>4ad</td>\n",
       "      <td>out of tune</td>\n",
       "      <td>6.3</td>\n",
       "    </tr>\n",
       "    <tr>\n",
       "      <th>26898</th>\n",
       "      <td>2413</td>\n",
       "      <td>rock</td>\n",
       "      <td>don caballero</td>\n",
       "      <td>1999.0</td>\n",
       "      <td>touch and go</td>\n",
       "      <td>singles breaking up, vol. 1</td>\n",
       "      <td>7.2</td>\n",
       "    </tr>\n",
       "    <tr>\n",
       "      <th>26899</th>\n",
       "      <td>2413</td>\n",
       "      <td>metal</td>\n",
       "      <td>don caballero</td>\n",
       "      <td>1999.0</td>\n",
       "      <td>touch and go</td>\n",
       "      <td>singles breaking up, vol. 1</td>\n",
       "      <td>7.2</td>\n",
       "    </tr>\n",
       "    <tr>\n",
       "      <th>26900</th>\n",
       "      <td>2413</td>\n",
       "      <td>experimental</td>\n",
       "      <td>don caballero</td>\n",
       "      <td>1999.0</td>\n",
       "      <td>touch and go</td>\n",
       "      <td>singles breaking up, vol. 1</td>\n",
       "      <td>7.2</td>\n",
       "    </tr>\n",
       "    <tr>\n",
       "      <th>26901</th>\n",
       "      <td>3723</td>\n",
       "      <td>None</td>\n",
       "      <td>neil hamburger</td>\n",
       "      <td>NaN</td>\n",
       "      <td>drag city</td>\n",
       "      <td>left for dead in malaysia</td>\n",
       "      <td>6.5</td>\n",
       "    </tr>\n",
       "  </tbody>\n",
       "</table>\n",
       "<p>26902 rows × 7 columns</p>\n",
       "</div>"
      ],
      "text/plain": [
       "       reviewid         genre          artist    year               label  \\\n",
       "0         22703    electronic  massive attack  1998.0              virgin   \n",
       "1         22721         metal        krallice  2016.0           hathenter   \n",
       "2         22659          rock    uranium club  2016.0  fashionable idiots   \n",
       "3         22659          rock    uranium club  2016.0        static shock   \n",
       "4         22661          rock         kleenex  2016.0     kill rock stars   \n",
       "...         ...           ...             ...     ...                 ...   \n",
       "26897      5376          rock        mojave 3     NaN                 4ad   \n",
       "26898      2413          rock   don caballero  1999.0        touch and go   \n",
       "26899      2413         metal   don caballero  1999.0        touch and go   \n",
       "26900      2413  experimental   don caballero  1999.0        touch and go   \n",
       "26901      3723          None  neil hamburger     NaN           drag city   \n",
       "\n",
       "                             title  score  \n",
       "0                        mezzanine    9.3  \n",
       "1                     prelapsarian    7.9  \n",
       "2             all of them naturals    7.3  \n",
       "3             all of them naturals    7.3  \n",
       "4                      first songs    9.0  \n",
       "...                            ...    ...  \n",
       "26897                  out of tune    6.3  \n",
       "26898  singles breaking up, vol. 1    7.2  \n",
       "26899  singles breaking up, vol. 1    7.2  \n",
       "26900  singles breaking up, vol. 1    7.2  \n",
       "26901    left for dead in malaysia    6.5  \n",
       "\n",
       "[26902 rows x 7 columns]"
      ]
     },
     "execution_count": 15,
     "metadata": {},
     "output_type": "execute_result"
    }
   ],
   "source": [
    "df"
   ]
  },
  {
   "cell_type": "code",
   "execution_count": 17,
   "metadata": {
    "ExecuteTime": {
     "end_time": "2021-04-20T21:13:21.989373Z",
     "start_time": "2021-04-20T21:13:21.883167Z"
    }
   },
   "outputs": [],
   "source": [
    "df.to_csv('sql_data.csv', index= False)"
   ]
  },
  {
   "cell_type": "code",
   "execution_count": 18,
   "metadata": {
    "ExecuteTime": {
     "end_time": "2021-04-20T21:13:47.212592Z",
     "start_time": "2021-04-20T21:13:47.195088Z"
    }
   },
   "outputs": [
    {
     "name": "stdout",
     "output_type": "stream",
     "text": [
      "<class 'pandas.core.frame.DataFrame'>\n",
      "RangeIndex: 26902 entries, 0 to 26901\n",
      "Data columns (total 7 columns):\n",
      " #   Column    Non-Null Count  Dtype  \n",
      "---  ------    --------------  -----  \n",
      " 0   reviewid  26902 non-null  int64  \n",
      " 1   genre     24184 non-null  object \n",
      " 2   artist    26902 non-null  object \n",
      " 3   year      26291 non-null  float64\n",
      " 4   label     26857 non-null  object \n",
      " 5   title     26902 non-null  object \n",
      " 6   score     26902 non-null  float64\n",
      "dtypes: float64(2), int64(1), object(4)\n",
      "memory usage: 1.4+ MB\n"
     ]
    }
   ],
   "source": [
    "df.info()"
   ]
  },
  {
   "cell_type": "code",
   "execution_count": 21,
   "metadata": {
    "ExecuteTime": {
     "end_time": "2021-04-20T21:15:20.801660Z",
     "start_time": "2021-04-20T21:15:20.794747Z"
    }
   },
   "outputs": [
    {
     "data": {
      "text/plain": [
       "array(['electronic', 'metal', 'rock', None, 'rap', 'experimental',\n",
       "       'pop/r&b', 'folk/country', 'jazz', 'global'], dtype=object)"
      ]
     },
     "execution_count": 21,
     "metadata": {},
     "output_type": "execute_result"
    }
   ],
   "source": [
    "df.genre.unique()"
   ]
  },
  {
   "cell_type": "code",
   "execution_count": 22,
   "metadata": {
    "ExecuteTime": {
     "end_time": "2021-04-20T21:15:39.279320Z",
     "start_time": "2021-04-20T21:15:39.268668Z"
    }
   },
   "outputs": [
    {
     "data": {
      "text/plain": [
       "8633"
      ]
     },
     "execution_count": 22,
     "metadata": {},
     "output_type": "execute_result"
    }
   ],
   "source": [
    "df.artist.nunique()"
   ]
  },
  {
   "cell_type": "code",
   "execution_count": 30,
   "metadata": {
    "ExecuteTime": {
     "end_time": "2021-04-20T21:18:25.529065Z",
     "start_time": "2021-04-20T21:18:25.516100Z"
    }
   },
   "outputs": [
    {
     "data": {
      "text/plain": [
       "various artists      834\n",
       "xasthur               70\n",
       "prince                42\n",
       "xiu xiu               42\n",
       "brian eno             40\n",
       "saint etienne         40\n",
       "animal collective     38\n",
       "deerhoof              36\n",
       "the beatles           35\n",
       "the knife             34\n",
       "Name: artist, dtype: int64"
      ]
     },
     "execution_count": 30,
     "metadata": {},
     "output_type": "execute_result"
    }
   ],
   "source": [
    "df.artist.value_counts().head(10)"
   ]
  },
  {
   "cell_type": "code",
   "execution_count": 31,
   "metadata": {
    "ExecuteTime": {
     "end_time": "2021-04-20T21:18:54.665453Z",
     "start_time": "2021-04-20T21:18:54.655059Z"
    }
   },
   "outputs": [
    {
     "data": {
      "text/plain": [
       "self-released    526\n",
       "sub pop          347\n",
       "thrill jockey    343\n",
       "drag city        332\n",
       "domino           293\n",
       "merge            285\n",
       "mute             264\n",
       "columbia         259\n",
       "warp             252\n",
       "matador          239\n",
       "Name: label, dtype: int64"
      ]
     },
     "execution_count": 31,
     "metadata": {},
     "output_type": "execute_result"
    }
   ],
   "source": [
    "df.label.value_counts().head(10)"
   ]
  },
  {
   "cell_type": "code",
   "execution_count": 32,
   "metadata": {
    "ExecuteTime": {
     "end_time": "2021-04-20T21:19:08.489260Z",
     "start_time": "2021-04-20T21:19:08.480776Z"
    }
   },
   "outputs": [
    {
     "data": {
      "text/plain": [
       "rock            11104\n",
       "electronic       4484\n",
       "experimental     2228\n",
       "rap              1973\n",
       "pop/r&b          1712\n",
       "metal            1011\n",
       "folk/country      802\n",
       "jazz              561\n",
       "global            309\n",
       "Name: genre, dtype: int64"
      ]
     },
     "execution_count": 32,
     "metadata": {},
     "output_type": "execute_result"
    }
   ],
   "source": [
    "df.genre.value_counts().head(10)"
   ]
  },
  {
   "cell_type": "code",
   "execution_count": 33,
   "metadata": {
    "ExecuteTime": {
     "end_time": "2021-04-20T21:19:25.024793Z",
     "start_time": "2021-04-20T21:19:25.018133Z"
    }
   },
   "outputs": [
    {
     "data": {
      "text/plain": [
       "2006.0    1854\n",
       "2007.0    1809\n",
       "2010.0    1745\n",
       "2011.0    1735\n",
       "2005.0    1693\n",
       "2008.0    1683\n",
       "2012.0    1624\n",
       "2016.0    1582\n",
       "2013.0    1578\n",
       "2009.0    1560\n",
       "Name: year, dtype: int64"
      ]
     },
     "execution_count": 33,
     "metadata": {},
     "output_type": "execute_result"
    }
   ],
   "source": [
    "df.year.value_counts().head(10)"
   ]
  },
  {
   "cell_type": "code",
   "execution_count": 36,
   "metadata": {
    "ExecuteTime": {
     "end_time": "2021-04-20T21:26:34.624956Z",
     "start_time": "2021-04-20T21:26:34.613619Z"
    }
   },
   "outputs": [
    {
     "data": {
      "text/plain": [
       "reviewid       0\n",
       "genre       2718\n",
       "artist         0\n",
       "year         611\n",
       "label         45\n",
       "title          0\n",
       "score          0\n",
       "dtype: int64"
      ]
     },
     "execution_count": 36,
     "metadata": {},
     "output_type": "execute_result"
    }
   ],
   "source": [
    "df.isna().sum()"
   ]
  },
  {
   "cell_type": "markdown",
   "metadata": {},
   "source": [
    "# Potential questions to answer:\n",
    "Do review scores for individual artists generally improve over time, or go down?\n",
    "How has Pitchfork's review genre selection changed over time?\n",
    "Who are the most highly rated artists? The least highly rated artists?"
   ]
  },
  {
   "cell_type": "code",
   "execution_count": null,
   "metadata": {},
   "outputs": [],
   "source": []
  }
 ],
 "metadata": {
  "kernelspec": {
   "display_name": "Python 3",
   "language": "python",
   "name": "python3"
  },
  "language_info": {
   "codemirror_mode": {
    "name": "ipython",
    "version": 3
   },
   "file_extension": ".py",
   "mimetype": "text/x-python",
   "name": "python",
   "nbconvert_exporter": "python",
   "pygments_lexer": "ipython3",
   "version": "3.8.5"
  },
  "toc": {
   "base_numbering": 1,
   "nav_menu": {},
   "number_sections": true,
   "sideBar": true,
   "skip_h1_title": true,
   "title_cell": "Table of Contents",
   "title_sidebar": "Contents",
   "toc_cell": false,
   "toc_position": {},
   "toc_section_display": true,
   "toc_window_display": false
  },
  "varInspector": {
   "cols": {
    "lenName": 16,
    "lenType": 16,
    "lenVar": 40
   },
   "kernels_config": {
    "python": {
     "delete_cmd_postfix": "",
     "delete_cmd_prefix": "del ",
     "library": "var_list.py",
     "varRefreshCmd": "print(var_dic_list())"
    },
    "r": {
     "delete_cmd_postfix": ") ",
     "delete_cmd_prefix": "rm(",
     "library": "var_list.r",
     "varRefreshCmd": "cat(var_dic_list()) "
    }
   },
   "types_to_exclude": [
    "module",
    "function",
    "builtin_function_or_method",
    "instance",
    "_Feature"
   ],
   "window_display": false
  }
 },
 "nbformat": 4,
 "nbformat_minor": 4
}
