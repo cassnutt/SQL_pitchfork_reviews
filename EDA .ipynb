{
 "cells": [
  {
   "cell_type": "markdown",
   "metadata": {},
   "source": [
    "# Exploring Pitchfork Reviews"
   ]
  },
  {
   "cell_type": "markdown",
   "metadata": {},
   "source": [
    "## Libraries"
   ]
  },
  {
   "cell_type": "code",
   "execution_count": 1,
   "metadata": {
    "ExecuteTime": {
     "end_time": "2021-04-20T22:40:33.223459Z",
     "start_time": "2021-04-20T22:40:32.497998Z"
    }
   },
   "outputs": [],
   "source": [
    "import pandas as pd\n",
    "import numpy as np\n",
    "import matplotlib.pyplot as plt\n",
    "%matplotlib inline\n",
    "\n",
    "import sqlite3\n",
    "import datetime\n",
    "import seaborn as sns\n",
    "sns.set_style('whitegrid')"
   ]
  },
  {
   "cell_type": "markdown",
   "metadata": {},
   "source": [
    "# Load data"
   ]
  },
  {
   "cell_type": "code",
   "execution_count": 2,
   "metadata": {
    "ExecuteTime": {
     "end_time": "2021-04-20T22:40:33.227484Z",
     "start_time": "2021-04-20T22:40:33.225317Z"
    }
   },
   "outputs": [],
   "source": [
    "conn = sqlite3.connect('../database.sqlite')"
   ]
  },
  {
   "cell_type": "markdown",
   "metadata": {},
   "source": [
    "![schema](images/pitchfork_reviews2.png)"
   ]
  },
  {
   "cell_type": "code",
   "execution_count": 3,
   "metadata": {
    "ExecuteTime": {
     "end_time": "2021-04-20T22:40:33.439312Z",
     "start_time": "2021-04-20T22:40:33.229045Z"
    }
   },
   "outputs": [],
   "source": [
    "q = '''\n",
    "SELECT \n",
    "    reviewid, \n",
    "    g.genre, \n",
    "    a.artist, \n",
    "    y.year, \n",
    "    l.label,\n",
    "    r.title, \n",
    "    r.score \n",
    "FROM genres AS g\n",
    "JOIN artists AS a\n",
    "    USING (reviewid)\n",
    "JOIN years AS y\n",
    "    USING (reviewid)\n",
    "JOIN labels AS l\n",
    "    USING (reviewid)\n",
    "JOIN reviews AS r\n",
    "    USING (reviewid)\n",
    ";\n",
    "'''\n",
    "\n",
    "df = pd.read_sql(q, conn)"
   ]
  },
  {
   "cell_type": "code",
   "execution_count": 4,
   "metadata": {
    "ExecuteTime": {
     "end_time": "2021-04-20T22:40:33.443193Z",
     "start_time": "2021-04-20T22:40:33.440810Z"
    }
   },
   "outputs": [],
   "source": [
    "conn.close()"
   ]
  },
  {
   "cell_type": "code",
   "execution_count": 5,
   "metadata": {
    "ExecuteTime": {
     "end_time": "2021-04-20T22:40:33.462417Z",
     "start_time": "2021-04-20T22:40:33.446074Z"
    }
   },
   "outputs": [
    {
     "data": {
      "text/html": [
       "<div>\n",
       "<style scoped>\n",
       "    .dataframe tbody tr th:only-of-type {\n",
       "        vertical-align: middle;\n",
       "    }\n",
       "\n",
       "    .dataframe tbody tr th {\n",
       "        vertical-align: top;\n",
       "    }\n",
       "\n",
       "    .dataframe thead th {\n",
       "        text-align: right;\n",
       "    }\n",
       "</style>\n",
       "<table border=\"1\" class=\"dataframe\">\n",
       "  <thead>\n",
       "    <tr style=\"text-align: right;\">\n",
       "      <th></th>\n",
       "      <th>reviewid</th>\n",
       "      <th>genre</th>\n",
       "      <th>artist</th>\n",
       "      <th>year</th>\n",
       "      <th>label</th>\n",
       "      <th>title</th>\n",
       "      <th>score</th>\n",
       "    </tr>\n",
       "  </thead>\n",
       "  <tbody>\n",
       "    <tr>\n",
       "      <th>0</th>\n",
       "      <td>22703</td>\n",
       "      <td>electronic</td>\n",
       "      <td>massive attack</td>\n",
       "      <td>1998.0</td>\n",
       "      <td>virgin</td>\n",
       "      <td>mezzanine</td>\n",
       "      <td>9.3</td>\n",
       "    </tr>\n",
       "    <tr>\n",
       "      <th>1</th>\n",
       "      <td>22721</td>\n",
       "      <td>metal</td>\n",
       "      <td>krallice</td>\n",
       "      <td>2016.0</td>\n",
       "      <td>hathenter</td>\n",
       "      <td>prelapsarian</td>\n",
       "      <td>7.9</td>\n",
       "    </tr>\n",
       "    <tr>\n",
       "      <th>2</th>\n",
       "      <td>22659</td>\n",
       "      <td>rock</td>\n",
       "      <td>uranium club</td>\n",
       "      <td>2016.0</td>\n",
       "      <td>fashionable idiots</td>\n",
       "      <td>all of them naturals</td>\n",
       "      <td>7.3</td>\n",
       "    </tr>\n",
       "    <tr>\n",
       "      <th>3</th>\n",
       "      <td>22659</td>\n",
       "      <td>rock</td>\n",
       "      <td>uranium club</td>\n",
       "      <td>2016.0</td>\n",
       "      <td>static shock</td>\n",
       "      <td>all of them naturals</td>\n",
       "      <td>7.3</td>\n",
       "    </tr>\n",
       "    <tr>\n",
       "      <th>4</th>\n",
       "      <td>22661</td>\n",
       "      <td>rock</td>\n",
       "      <td>kleenex</td>\n",
       "      <td>2016.0</td>\n",
       "      <td>kill rock stars</td>\n",
       "      <td>first songs</td>\n",
       "      <td>9.0</td>\n",
       "    </tr>\n",
       "    <tr>\n",
       "      <th>...</th>\n",
       "      <td>...</td>\n",
       "      <td>...</td>\n",
       "      <td>...</td>\n",
       "      <td>...</td>\n",
       "      <td>...</td>\n",
       "      <td>...</td>\n",
       "      <td>...</td>\n",
       "    </tr>\n",
       "    <tr>\n",
       "      <th>26897</th>\n",
       "      <td>5376</td>\n",
       "      <td>rock</td>\n",
       "      <td>mojave 3</td>\n",
       "      <td>NaN</td>\n",
       "      <td>4ad</td>\n",
       "      <td>out of tune</td>\n",
       "      <td>6.3</td>\n",
       "    </tr>\n",
       "    <tr>\n",
       "      <th>26898</th>\n",
       "      <td>2413</td>\n",
       "      <td>rock</td>\n",
       "      <td>don caballero</td>\n",
       "      <td>1999.0</td>\n",
       "      <td>touch and go</td>\n",
       "      <td>singles breaking up, vol. 1</td>\n",
       "      <td>7.2</td>\n",
       "    </tr>\n",
       "    <tr>\n",
       "      <th>26899</th>\n",
       "      <td>2413</td>\n",
       "      <td>metal</td>\n",
       "      <td>don caballero</td>\n",
       "      <td>1999.0</td>\n",
       "      <td>touch and go</td>\n",
       "      <td>singles breaking up, vol. 1</td>\n",
       "      <td>7.2</td>\n",
       "    </tr>\n",
       "    <tr>\n",
       "      <th>26900</th>\n",
       "      <td>2413</td>\n",
       "      <td>experimental</td>\n",
       "      <td>don caballero</td>\n",
       "      <td>1999.0</td>\n",
       "      <td>touch and go</td>\n",
       "      <td>singles breaking up, vol. 1</td>\n",
       "      <td>7.2</td>\n",
       "    </tr>\n",
       "    <tr>\n",
       "      <th>26901</th>\n",
       "      <td>3723</td>\n",
       "      <td>None</td>\n",
       "      <td>neil hamburger</td>\n",
       "      <td>NaN</td>\n",
       "      <td>drag city</td>\n",
       "      <td>left for dead in malaysia</td>\n",
       "      <td>6.5</td>\n",
       "    </tr>\n",
       "  </tbody>\n",
       "</table>\n",
       "<p>26902 rows × 7 columns</p>\n",
       "</div>"
      ],
      "text/plain": [
       "       reviewid         genre          artist    year               label  \\\n",
       "0         22703    electronic  massive attack  1998.0              virgin   \n",
       "1         22721         metal        krallice  2016.0           hathenter   \n",
       "2         22659          rock    uranium club  2016.0  fashionable idiots   \n",
       "3         22659          rock    uranium club  2016.0        static shock   \n",
       "4         22661          rock         kleenex  2016.0     kill rock stars   \n",
       "...         ...           ...             ...     ...                 ...   \n",
       "26897      5376          rock        mojave 3     NaN                 4ad   \n",
       "26898      2413          rock   don caballero  1999.0        touch and go   \n",
       "26899      2413         metal   don caballero  1999.0        touch and go   \n",
       "26900      2413  experimental   don caballero  1999.0        touch and go   \n",
       "26901      3723          None  neil hamburger     NaN           drag city   \n",
       "\n",
       "                             title  score  \n",
       "0                        mezzanine    9.3  \n",
       "1                     prelapsarian    7.9  \n",
       "2             all of them naturals    7.3  \n",
       "3             all of them naturals    7.3  \n",
       "4                      first songs    9.0  \n",
       "...                            ...    ...  \n",
       "26897                  out of tune    6.3  \n",
       "26898  singles breaking up, vol. 1    7.2  \n",
       "26899  singles breaking up, vol. 1    7.2  \n",
       "26900  singles breaking up, vol. 1    7.2  \n",
       "26901    left for dead in malaysia    6.5  \n",
       "\n",
       "[26902 rows x 7 columns]"
      ]
     },
     "execution_count": 5,
     "metadata": {},
     "output_type": "execute_result"
    }
   ],
   "source": [
    "df"
   ]
  },
  {
   "cell_type": "code",
   "execution_count": 6,
   "metadata": {
    "ExecuteTime": {
     "end_time": "2021-04-20T22:40:33.554776Z",
     "start_time": "2021-04-20T22:40:33.465217Z"
    }
   },
   "outputs": [],
   "source": [
    "df.to_csv('sql_data.csv', index= False)"
   ]
  },
  {
   "cell_type": "code",
   "execution_count": 7,
   "metadata": {
    "ExecuteTime": {
     "end_time": "2021-04-20T22:40:33.570808Z",
     "start_time": "2021-04-20T22:40:33.556419Z"
    }
   },
   "outputs": [
    {
     "name": "stdout",
     "output_type": "stream",
     "text": [
      "<class 'pandas.core.frame.DataFrame'>\n",
      "RangeIndex: 26902 entries, 0 to 26901\n",
      "Data columns (total 7 columns):\n",
      " #   Column    Non-Null Count  Dtype  \n",
      "---  ------    --------------  -----  \n",
      " 0   reviewid  26902 non-null  int64  \n",
      " 1   genre     24184 non-null  object \n",
      " 2   artist    26902 non-null  object \n",
      " 3   year      26291 non-null  float64\n",
      " 4   label     26857 non-null  object \n",
      " 5   title     26902 non-null  object \n",
      " 6   score     26902 non-null  float64\n",
      "dtypes: float64(2), int64(1), object(4)\n",
      "memory usage: 1.4+ MB\n"
     ]
    }
   ],
   "source": [
    "df.info()"
   ]
  },
  {
   "cell_type": "code",
   "execution_count": 8,
   "metadata": {
    "ExecuteTime": {
     "end_time": "2021-04-20T22:40:33.579321Z",
     "start_time": "2021-04-20T22:40:33.572967Z"
    }
   },
   "outputs": [
    {
     "data": {
      "text/plain": [
       "array(['electronic', 'metal', 'rock', None, 'rap', 'experimental',\n",
       "       'pop/r&b', 'folk/country', 'jazz', 'global'], dtype=object)"
      ]
     },
     "execution_count": 8,
     "metadata": {},
     "output_type": "execute_result"
    }
   ],
   "source": [
    "df.genre.unique()"
   ]
  },
  {
   "cell_type": "code",
   "execution_count": 9,
   "metadata": {
    "ExecuteTime": {
     "end_time": "2021-04-20T22:40:33.589956Z",
     "start_time": "2021-04-20T22:40:33.581308Z"
    }
   },
   "outputs": [
    {
     "data": {
      "text/plain": [
       "8633"
      ]
     },
     "execution_count": 9,
     "metadata": {},
     "output_type": "execute_result"
    }
   ],
   "source": [
    "df.artist.nunique()"
   ]
  },
  {
   "cell_type": "code",
   "execution_count": 10,
   "metadata": {
    "ExecuteTime": {
     "end_time": "2021-04-20T22:40:33.604263Z",
     "start_time": "2021-04-20T22:40:33.591892Z"
    }
   },
   "outputs": [
    {
     "data": {
      "text/plain": [
       "various artists       834\n",
       "xasthur                70\n",
       "prince                 42\n",
       "xiu xiu                42\n",
       "brian eno              40\n",
       "saint etienne          40\n",
       "animal collective      38\n",
       "deerhoof               36\n",
       "the beatles            35\n",
       "the blood brothers     34\n",
       "Name: artist, dtype: int64"
      ]
     },
     "execution_count": 10,
     "metadata": {},
     "output_type": "execute_result"
    }
   ],
   "source": [
    "df.artist.value_counts().head(10)"
   ]
  },
  {
   "cell_type": "code",
   "execution_count": 11,
   "metadata": {
    "ExecuteTime": {
     "end_time": "2021-04-20T22:40:33.615780Z",
     "start_time": "2021-04-20T22:40:33.605807Z"
    }
   },
   "outputs": [
    {
     "data": {
      "text/plain": [
       "self-released    526\n",
       "sub pop          347\n",
       "thrill jockey    343\n",
       "drag city        332\n",
       "domino           293\n",
       "merge            285\n",
       "mute             264\n",
       "columbia         259\n",
       "warp             252\n",
       "matador          239\n",
       "Name: label, dtype: int64"
      ]
     },
     "execution_count": 11,
     "metadata": {},
     "output_type": "execute_result"
    }
   ],
   "source": [
    "df.label.value_counts().head(10)"
   ]
  },
  {
   "cell_type": "code",
   "execution_count": 12,
   "metadata": {
    "ExecuteTime": {
     "end_time": "2021-04-20T22:40:33.625348Z",
     "start_time": "2021-04-20T22:40:33.617476Z"
    }
   },
   "outputs": [
    {
     "data": {
      "text/plain": [
       "rock            11104\n",
       "electronic       4484\n",
       "experimental     2228\n",
       "rap              1973\n",
       "pop/r&b          1712\n",
       "metal            1011\n",
       "folk/country      802\n",
       "jazz              561\n",
       "global            309\n",
       "Name: genre, dtype: int64"
      ]
     },
     "execution_count": 12,
     "metadata": {},
     "output_type": "execute_result"
    }
   ],
   "source": [
    "df.genre.value_counts().head(10)"
   ]
  },
  {
   "cell_type": "code",
   "execution_count": 13,
   "metadata": {
    "ExecuteTime": {
     "end_time": "2021-04-20T22:40:33.634840Z",
     "start_time": "2021-04-20T22:40:33.627459Z"
    }
   },
   "outputs": [
    {
     "data": {
      "text/plain": [
       "2006.0    1854\n",
       "2007.0    1809\n",
       "2010.0    1745\n",
       "2011.0    1735\n",
       "2005.0    1693\n",
       "2008.0    1683\n",
       "2012.0    1624\n",
       "2016.0    1582\n",
       "2013.0    1578\n",
       "2009.0    1560\n",
       "Name: year, dtype: int64"
      ]
     },
     "execution_count": 13,
     "metadata": {},
     "output_type": "execute_result"
    }
   ],
   "source": [
    "df.year.value_counts().head(10)"
   ]
  },
  {
   "cell_type": "code",
   "execution_count": 14,
   "metadata": {
    "ExecuteTime": {
     "end_time": "2021-04-20T22:40:33.650292Z",
     "start_time": "2021-04-20T22:40:33.637104Z"
    }
   },
   "outputs": [
    {
     "data": {
      "text/plain": [
       "reviewid       0\n",
       "genre       2718\n",
       "artist         0\n",
       "year         611\n",
       "label         45\n",
       "title          0\n",
       "score          0\n",
       "dtype: int64"
      ]
     },
     "execution_count": 14,
     "metadata": {},
     "output_type": "execute_result"
    }
   ],
   "source": [
    "df.isna().sum()"
   ]
  },
  {
   "cell_type": "markdown",
   "metadata": {},
   "source": [
    "# Potential questions to answer:\n",
    "Do review scores for individual artists generally improve over time, or go down?\n",
    "How has Pitchfork's review genre selection changed over time?\n",
    "Who are the most highly rated artists? The least highly rated artists?"
   ]
  },
  {
   "cell_type": "code",
   "execution_count": 15,
   "metadata": {
    "ExecuteTime": {
     "end_time": "2021-04-20T22:40:33.706119Z",
     "start_time": "2021-04-20T22:40:33.652543Z"
    }
   },
   "outputs": [
    {
     "data": {
      "text/html": [
       "<div>\n",
       "<style scoped>\n",
       "    .dataframe tbody tr th:only-of-type {\n",
       "        vertical-align: middle;\n",
       "    }\n",
       "\n",
       "    .dataframe tbody tr th {\n",
       "        vertical-align: top;\n",
       "    }\n",
       "\n",
       "    .dataframe thead th {\n",
       "        text-align: right;\n",
       "    }\n",
       "</style>\n",
       "<table border=\"1\" class=\"dataframe\">\n",
       "  <thead>\n",
       "    <tr style=\"text-align: right;\">\n",
       "      <th></th>\n",
       "      <th>reviewid</th>\n",
       "      <th>genre</th>\n",
       "      <th>artist</th>\n",
       "      <th>year</th>\n",
       "      <th>label</th>\n",
       "      <th>title</th>\n",
       "      <th>score</th>\n",
       "    </tr>\n",
       "  </thead>\n",
       "  <tbody>\n",
       "    <tr>\n",
       "      <th>26038</th>\n",
       "      <td>12</td>\n",
       "      <td>metal</td>\n",
       "      <td>abilene</td>\n",
       "      <td>2001.0</td>\n",
       "      <td>slowdime</td>\n",
       "      <td>abilene</td>\n",
       "      <td>7.0</td>\n",
       "    </tr>\n",
       "    <tr>\n",
       "      <th>26037</th>\n",
       "      <td>12</td>\n",
       "      <td>rock</td>\n",
       "      <td>abilene</td>\n",
       "      <td>2001.0</td>\n",
       "      <td>slowdime</td>\n",
       "      <td>abilene</td>\n",
       "      <td>7.0</td>\n",
       "    </tr>\n",
       "    <tr>\n",
       "      <th>23281</th>\n",
       "      <td>15</td>\n",
       "      <td>rock</td>\n",
       "      <td>aceyalone</td>\n",
       "      <td>2003.0</td>\n",
       "      <td>deconstruction</td>\n",
       "      <td>love &amp; hate</td>\n",
       "      <td>6.7</td>\n",
       "    </tr>\n",
       "    <tr>\n",
       "      <th>23282</th>\n",
       "      <td>15</td>\n",
       "      <td>rap</td>\n",
       "      <td>aceyalone</td>\n",
       "      <td>2003.0</td>\n",
       "      <td>deconstruction</td>\n",
       "      <td>love &amp; hate</td>\n",
       "      <td>6.7</td>\n",
       "    </tr>\n",
       "    <tr>\n",
       "      <th>23757</th>\n",
       "      <td>16</td>\n",
       "      <td>rap</td>\n",
       "      <td>aceyalone</td>\n",
       "      <td>2003.0</td>\n",
       "      <td>project blowed</td>\n",
       "      <td>hip hop and the world we live in</td>\n",
       "      <td>7.5</td>\n",
       "    </tr>\n",
       "    <tr>\n",
       "      <th>...</th>\n",
       "      <td>...</td>\n",
       "      <td>...</td>\n",
       "      <td>...</td>\n",
       "      <td>...</td>\n",
       "      <td>...</td>\n",
       "      <td>...</td>\n",
       "      <td>...</td>\n",
       "    </tr>\n",
       "    <tr>\n",
       "      <th>23</th>\n",
       "      <td>22719</td>\n",
       "      <td>rap</td>\n",
       "      <td>chance the rapper</td>\n",
       "      <td>2016.0</td>\n",
       "      <td>self-released</td>\n",
       "      <td>merry christmas lil mama</td>\n",
       "      <td>8.1</td>\n",
       "    </tr>\n",
       "    <tr>\n",
       "      <th>26</th>\n",
       "      <td>22719</td>\n",
       "      <td>pop/r&amp;b</td>\n",
       "      <td>jeremih</td>\n",
       "      <td>2016.0</td>\n",
       "      <td>self-released</td>\n",
       "      <td>merry christmas lil mama</td>\n",
       "      <td>8.1</td>\n",
       "    </tr>\n",
       "    <tr>\n",
       "      <th>25</th>\n",
       "      <td>22719</td>\n",
       "      <td>pop/r&amp;b</td>\n",
       "      <td>chance the rapper</td>\n",
       "      <td>2016.0</td>\n",
       "      <td>self-released</td>\n",
       "      <td>merry christmas lil mama</td>\n",
       "      <td>8.1</td>\n",
       "    </tr>\n",
       "    <tr>\n",
       "      <th>18</th>\n",
       "      <td>22720</td>\n",
       "      <td>rap</td>\n",
       "      <td>yasiin bey</td>\n",
       "      <td>2016.0</td>\n",
       "      <td>awge</td>\n",
       "      <td>december 99th</td>\n",
       "      <td>3.5</td>\n",
       "    </tr>\n",
       "    <tr>\n",
       "      <th>17</th>\n",
       "      <td>22720</td>\n",
       "      <td>rap</td>\n",
       "      <td>yasiin bey</td>\n",
       "      <td>2016.0</td>\n",
       "      <td>a country called earth</td>\n",
       "      <td>december 99th</td>\n",
       "      <td>3.5</td>\n",
       "    </tr>\n",
       "  </tbody>\n",
       "</table>\n",
       "<p>14373 rows × 7 columns</p>\n",
       "</div>"
      ],
      "text/plain": [
       "       reviewid    genre             artist    year                   label  \\\n",
       "26038        12    metal            abilene  2001.0                slowdime   \n",
       "26037        12     rock            abilene  2001.0                slowdime   \n",
       "23281        15     rock          aceyalone  2003.0          deconstruction   \n",
       "23282        15      rap          aceyalone  2003.0          deconstruction   \n",
       "23757        16      rap          aceyalone  2003.0          project blowed   \n",
       "...         ...      ...                ...     ...                     ...   \n",
       "23        22719      rap  chance the rapper  2016.0           self-released   \n",
       "26        22719  pop/r&b            jeremih  2016.0           self-released   \n",
       "25        22719  pop/r&b  chance the rapper  2016.0           self-released   \n",
       "18        22720      rap         yasiin bey  2016.0                    awge   \n",
       "17        22720      rap         yasiin bey  2016.0  a country called earth   \n",
       "\n",
       "                                  title  score  \n",
       "26038                           abilene    7.0  \n",
       "26037                           abilene    7.0  \n",
       "23281                       love & hate    6.7  \n",
       "23282                       love & hate    6.7  \n",
       "23757  hip hop and the world we live in    7.5  \n",
       "...                                 ...    ...  \n",
       "23             merry christmas lil mama    8.1  \n",
       "26             merry christmas lil mama    8.1  \n",
       "25             merry christmas lil mama    8.1  \n",
       "18                        december 99th    3.5  \n",
       "17                        december 99th    3.5  \n",
       "\n",
       "[14373 rows x 7 columns]"
      ]
     },
     "execution_count": 15,
     "metadata": {},
     "output_type": "execute_result"
    }
   ],
   "source": [
    "df[df.duplicated('reviewid', keep= False)].sort_values('reviewid')"
   ]
  },
  {
   "cell_type": "code",
   "execution_count": 16,
   "metadata": {
    "ExecuteTime": {
     "end_time": "2021-04-20T22:40:33.721550Z",
     "start_time": "2021-04-20T22:40:33.708366Z"
    }
   },
   "outputs": [
    {
     "name": "stdout",
     "output_type": "stream",
     "text": [
      "Number of Duplicated Review IDs: 14373\n",
      "Percent of Duplicated Review IDs: 0.5342725447922088\n"
     ]
    }
   ],
   "source": [
    "dup_len = len(df[df.duplicated('reviewid', keep= False)].sort_values('reviewid'))\n",
    "print('Number of Duplicated Review IDs:', dup_len)"
   ]
  },
  {
   "cell_type": "markdown",
   "metadata": {},
   "source": [
    "It looks like a song may have multiple genres or multiple artists and that causes the data to be duplicated. We will analyze the genres first, then drop the duplicates."
   ]
  },
  {
   "cell_type": "code",
   "execution_count": 17,
   "metadata": {
    "ExecuteTime": {
     "end_time": "2021-04-20T22:40:33.992385Z",
     "start_time": "2021-04-20T22:40:33.728968Z"
    }
   },
   "outputs": [
    {
     "data": {
      "image/png": "[encoded data removed]",
      "text/plain": [
       "<Figure size 720x576 with 1 Axes>"
      ]
     },
     "metadata": {},
     "output_type": "display_data"
    }
   ],
   "source": [
    "plt.figure(figsize= (10, 8))\n",
    "sns.boxplot(x= 'genre', y= 'score', data= df)\n",
    "plt.title('Scores based on Genres')\n",
    "plt.xlabel('Genres')\n",
    "plt.ylabel('Scores');"
   ]
  },
  {
   "cell_type": "code",
   "execution_count": 18,
   "metadata": {
    "ExecuteTime": {
     "end_time": "2021-04-20T22:40:34.004729Z",
     "start_time": "2021-04-20T22:40:33.996637Z"
    }
   },
   "outputs": [
    {
     "data": {
      "text/plain": [
       "genre\n",
       "electronic      6.937868\n",
       "experimental    7.368402\n",
       "folk/country    7.228803\n",
       "global          7.402913\n",
       "jazz            7.353298\n",
       "metal           6.993966\n",
       "pop/r&b         6.940596\n",
       "rap             6.904612\n",
       "rock            6.994317\n",
       "Name: score, dtype: float64"
      ]
     },
     "execution_count": 18,
     "metadata": {},
     "output_type": "execute_result"
    }
   ],
   "source": [
    "df.groupby('genre')['score'].mean()"
   ]
  },
  {
   "cell_type": "markdown",
   "metadata": {},
   "source": [
    "The \"global\" genre has the highest average score, followed closely by \"experimental\" and \"jazz\".\n",
    "\n",
    "If you are like me and do not know what the \"global\" genre is, here is Wikipedia's definition to help out:\n",
    "\"World music is a musical category encompassing many different styles of music from around the world, including traditional music, quasi-traditional music, and music where more than one cultural tradition intermingles.\"\n",
    "\n",
    "However, it is important to note here that the \"global\" genre has the fewest data points of all the genres."
   ]
  },
  {
   "cell_type": "code",
   "execution_count": 20,
   "metadata": {
    "ExecuteTime": {
     "end_time": "2021-04-20T22:40:34.177215Z",
     "start_time": "2021-04-20T22:40:34.014347Z"
    }
   },
   "outputs": [
    {
     "data": {
      "image/png": "[encoded data removed]",
      "text/plain": [
       "<Figure size 576x432 with 1 Axes>"
      ]
     },
     "metadata": {},
     "output_type": "display_data"
    }
   ],
   "source": [
    "plt.figure(figsize= (8,6))\n",
    "sns.countplot(data= df, x= 'genre')\n",
    "plt.title('Number of Songs per Genre')\n",
    "plt.xlabel('Genres')\n",
    "plt.ylabel('Count');"
   ]
  },
  {
   "cell_type": "markdown",
   "metadata": {},
   "source": [
    "Now, let's remove the duplicates and see how the genres change."
   ]
  },
  {
   "cell_type": "code",
   "execution_count": 21,
   "metadata": {
    "ExecuteTime": {
     "end_time": "2021-04-20T22:40:34.185639Z",
     "start_time": "2021-04-20T22:40:34.179235Z"
    }
   },
   "outputs": [],
   "source": [
    "df2 = df.drop_duplicates('reviewid')"
   ]
  },
  {
   "cell_type": "code",
   "execution_count": 22,
   "metadata": {
    "ExecuteTime": {
     "end_time": "2021-04-20T22:40:34.201286Z",
     "start_time": "2021-04-20T22:40:34.187497Z"
    }
   },
   "outputs": [
    {
     "name": "stdout",
     "output_type": "stream",
     "text": [
      "<class 'pandas.core.frame.DataFrame'>\n",
      "Int64Index: 18389 entries, 0 to 26901\n",
      "Data columns (total 7 columns):\n",
      " #   Column    Non-Null Count  Dtype  \n",
      "---  ------    --------------  -----  \n",
      " 0   reviewid  18389 non-null  int64  \n",
      " 1   genre     16024 non-null  object \n",
      " 2   artist    18389 non-null  object \n",
      " 3   year      17983 non-null  float64\n",
      " 4   label     18351 non-null  object \n",
      " 5   title     18389 non-null  object \n",
      " 6   score     18389 non-null  float64\n",
      "dtypes: float64(2), int64(1), object(4)\n",
      "memory usage: 1.1+ MB\n"
     ]
    }
   ],
   "source": [
    "df2.info()"
   ]
  },
  {
   "cell_type": "markdown",
   "metadata": {},
   "source": [
    "We lost quite a few songs there. We went from 26,902 to 18,389 entries in the dataset."
   ]
  },
  {
   "cell_type": "code",
   "execution_count": 27,
   "metadata": {
    "ExecuteTime": {
     "end_time": "2021-04-20T22:43:54.996716Z",
     "start_time": "2021-04-20T22:43:54.993284Z"
    }
   },
   "outputs": [
    {
     "name": "stdout",
     "output_type": "stream",
     "text": [
      "Percent of Duplicates Removed: 14.928258122072707\n"
     ]
    }
   ],
   "source": [
    "diff = len(df2) - dup_len \n",
    "percent_dup = diff / len(df)\n",
    "print('Percent of Duplicates Removed:', percent_dup * 100)"
   ]
  },
  {
   "cell_type": "code",
   "execution_count": 32,
   "metadata": {
    "ExecuteTime": {
     "end_time": "2021-04-20T22:51:20.034439Z",
     "start_time": "2021-04-20T22:51:19.764716Z"
    }
   },
   "outputs": [
    {
     "data": {
      "image/png": "[encoded data removed]",
      "text/plain": [
       "<Figure size 1440x432 with 2 Axes>"
      ]
     },
     "metadata": {},
     "output_type": "display_data"
    }
   ],
   "source": [
    "fig = plt.figure(figsize= (20, 6))\n",
    "\n",
    "ax1 = fig.add_subplot(121)\n",
    "sns.countplot(data= df, x= 'genre', ax= ax1)\n",
    "ax1.set_title('Number of Songs per Genre with Duplicates')\n",
    "ax1.set_xlabel('Genres')\n",
    "ax1.set_ylabel('Count')\n",
    "\n",
    "ax2 = fig.add_subplot(122)\n",
    "sns.countplot(data= df2, x= 'genre', ax= ax2)\n",
    "ax2.set_title('Number of Songs per Genre after Duplicates Removed')\n",
    "ax2.set_xlabel('Genres')\n",
    "ax2.set_ylabel('Count');"
   ]
  },
  {
   "cell_type": "code",
   "execution_count": 33,
   "metadata": {
    "ExecuteTime": {
     "end_time": "2021-04-20T22:51:59.123297Z",
     "start_time": "2021-04-20T22:51:59.115771Z"
    }
   },
   "outputs": [
    {
     "data": {
      "text/plain": [
       "rock            9435\n",
       "electronic      1994\n",
       "rap             1488\n",
       "pop/r&b         1087\n",
       "folk/country     574\n",
       "experimental     565\n",
       "metal            357\n",
       "jazz             341\n",
       "global           183\n",
       "Name: genre, dtype: int64"
      ]
     },
     "execution_count": 33,
     "metadata": {},
     "output_type": "execute_result"
    }
   ],
   "source": [
    "df2.genre.value_counts()"
   ]
  },
  {
   "cell_type": "code",
   "execution_count": null,
   "metadata": {},
   "outputs": [],
   "source": []
  },
  {
   "cell_type": "code",
   "execution_count": null,
   "metadata": {},
   "outputs": [],
   "source": []
  },
  {
   "cell_type": "code",
   "execution_count": null,
   "metadata": {},
   "outputs": [],
   "source": []
  }
 ],
 "metadata": {
  "kernelspec": {
   "display_name": "Python 3",
   "language": "python",
   "name": "python3"
  },
  "language_info": {
   "codemirror_mode": {
    "name": "ipython",
    "version": 3
   },
   "file_extension": ".py",
   "mimetype": "text/x-python",
   "name": "python",
   "nbconvert_exporter": "python",
   "pygments_lexer": "ipython3",
   "version": "3.8.5"
  },
  "toc": {
   "base_numbering": 1,
   "nav_menu": {},
   "number_sections": true,
   "sideBar": true,
   "skip_h1_title": true,
   "title_cell": "Table of Contents",
   "title_sidebar": "Contents",
   "toc_cell": false,
   "toc_position": {},
   "toc_section_display": true,
   "toc_window_display": false
  },
  "varInspector": {
   "cols": {
    "lenName": 16,
    "lenType": 16,
    "lenVar": 40
   },
   "kernels_config": {
    "python": {
     "delete_cmd_postfix": "",
     "delete_cmd_prefix": "del ",
     "library": "var_list.py",
     "varRefreshCmd": "print(var_dic_list())"
    },
    "r": {
     "delete_cmd_postfix": ") ",
     "delete_cmd_prefix": "rm(",
     "library": "var_list.r",
     "varRefreshCmd": "cat(var_dic_list()) "
    }
   },
   "types_to_exclude": [
    "module",
    "function",
    "builtin_function_or_method",
    "instance",
    "_Feature"
   ],
   "window_display": false
  }
 },
 "nbformat": 4,
 "nbformat_minor": 4
}
